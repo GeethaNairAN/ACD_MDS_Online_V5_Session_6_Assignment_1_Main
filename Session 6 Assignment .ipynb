{
 "cells": [
  {
   "cell_type": "code",
   "execution_count": 1,
   "metadata": {},
   "outputs": [
    {
     "name": "stdout",
     "output_type": "stream",
     "text": [
      "[[  1   3   9  27]\n",
      " [  1   5  25 125]\n",
      " [  1   7  49 343]\n",
      " [  1   9  81 729]]\n",
      "[[ 27   9   3   1]\n",
      " [125  25   5   1]\n",
      " [343  49   7   1]\n",
      " [729  81   9   1]]\n",
      "[[ 27   9   3   1]\n",
      " [125  25   5   1]\n",
      " [343  49   7   1]\n",
      " [729  81   9   1]]\n"
     ]
    }
   ],
   "source": [
    "# Create a function so that the columns of the output matrix are powers of the input vector. \n",
    "# Let list1 be the values provided and increasing be the boolean supplied. Default the boolean to false\n",
    "\n",
    "import numpy as np\n",
    "def vander_mat(list1,increasing='False'):\n",
    "    n=np.array(list1)\n",
    "    l=n.size\n",
    "    if increasing=='True':\n",
    "        b=np.mat([n**i for i in range(l)])\n",
    "    else:\n",
    "        b=np.mat([n**i for i in range(l-1,-1,-1)])\n",
    "\n",
    "# Return the transpose of the matrix created above since that is the required Vandermonde matrix. \n",
    "    return(b.transpose())\n",
    "\n",
    "# Print the matrix for the values given with Increasing as True\n",
    "print(vander_mat([3,5,7,9],'True'))\n",
    "\n",
    "# Print the matrix for the values given with Increasing as False\n",
    "print(vander_mat([3,5,7,9],'False'))\n",
    "\n",
    "# Print the matrix for the values given with Increasing value not provided. It should default to False. \n",
    "print(vander_mat([3,5,7,9]))"
   ]
  },
  {
   "cell_type": "code",
   "execution_count": 2,
   "metadata": {},
   "outputs": [
    {
     "name": "stdout",
     "output_type": "stream",
     "text": [
      "[[  1   3   9  27]\n",
      " [  1   5  25 125]\n",
      " [  1   7  49 343]\n",
      " [  1   9  81 729]]\n",
      "[[ 27   9   3   1]\n",
      " [125  25   5   1]\n",
      " [343  49   7   1]\n",
      " [729  81   9   1]]\n",
      "[[ 27   9   3   1]\n",
      " [125  25   5   1]\n",
      " [343  49   7   1]\n",
      " [729  81   9   1]]\n"
     ]
    }
   ],
   "source": [
    "#Validate the answers with the numpy function vander.\n",
    "print(np.vander([3,5,7,9],increasing=True))\n",
    "print(np.vander([3,5,7,9],increasing=False))\n",
    "print(np.vander([3,5,7,9]))"
   ]
  },
  {
   "cell_type": "code",
   "execution_count": null,
   "metadata": {},
   "outputs": [],
   "source": []
  }
 ],
 "metadata": {
  "kernelspec": {
   "display_name": "Python 3",
   "language": "python",
   "name": "python3"
  },
  "language_info": {
   "codemirror_mode": {
    "name": "ipython",
    "version": 3
   },
   "file_extension": ".py",
   "mimetype": "text/x-python",
   "name": "python",
   "nbconvert_exporter": "python",
   "pygments_lexer": "ipython3",
   "version": "3.6.5"
  }
 },
 "nbformat": 4,
 "nbformat_minor": 2
}
